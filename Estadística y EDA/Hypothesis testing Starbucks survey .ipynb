{
 "cells": [
  {
   "attachments": {},
   "cell_type": "markdown",
   "id": "c322dbdb",
   "metadata": {},
   "source": [
    "# Starbucks satisfaction survey. Hypothesis testing\n",
    "Por: Francisco Jose Diaz - Data analyst de El Salvador"
   ]
  },
  {
   "cell_type": "markdown",
   "id": "792e5aa5",
   "metadata": {},
   "source": [
    "El presente notebook tiene como objetivo construir pruebas de hipotesis utilizando librerias de python. Los datos son de la encuesta de satisfaccion del consumidor de Starbucks Malasia \n",
    "\n",
    "Fuente de los datos: [Kaggle](https://www.kaggle.com/datasets/mahirahmzh/starbucks-customer-retention-malaysia-survey?select=Starbucks+satisfactory+survey+encode+cleaned.csv)"
   ]
  },
  {
   "cell_type": "markdown",
   "id": "a7a13d51",
   "metadata": {},
   "source": [
    "## Setup"
   ]
  },
  {
   "cell_type": "code",
   "execution_count": 1,
   "id": "e9f4901b",
   "metadata": {},
   "outputs": [],
   "source": [
    "%matplotlib inline\n",
    "import matplotlib.pyplot as plt\n",
    "import pandas as pd\n",
    "import numpy as np\n",
    "import statsmodels.api as sm\n",
    "import scipy.stats.distributions as dist\n",
    "from random import randrange"
   ]
  },
  {
   "cell_type": "code",
   "execution_count": 2,
   "id": "a30a4d9c",
   "metadata": {},
   "outputs": [],
   "source": [
    "df = pd.read_csv(\"Starbucks satisfactory survey encode cleaned.csv\")"
   ]
  },
  {
   "cell_type": "markdown",
   "id": "2fbfa4c7",
   "metadata": {},
   "source": [
    "## Explorando los datos "
   ]
  },
  {
   "cell_type": "code",
   "execution_count": 3,
   "id": "df3f6876",
   "metadata": {},
   "outputs": [
    {
     "data": {
      "text/html": [
       "<div>\n",
       "<style scoped>\n",
       "    .dataframe tbody tr th:only-of-type {\n",
       "        vertical-align: middle;\n",
       "    }\n",
       "\n",
       "    .dataframe tbody tr th {\n",
       "        vertical-align: top;\n",
       "    }\n",
       "\n",
       "    .dataframe thead th {\n",
       "        text-align: right;\n",
       "    }\n",
       "</style>\n",
       "<table border=\"1\" class=\"dataframe\">\n",
       "  <thead>\n",
       "    <tr style=\"text-align: right;\">\n",
       "      <th></th>\n",
       "      <th>Id</th>\n",
       "      <th>gender</th>\n",
       "      <th>age</th>\n",
       "      <th>status</th>\n",
       "      <th>income</th>\n",
       "      <th>visitNo</th>\n",
       "      <th>method</th>\n",
       "      <th>timeSpend</th>\n",
       "      <th>location</th>\n",
       "      <th>membershipCard</th>\n",
       "      <th>...</th>\n",
       "      <th>chooseRate</th>\n",
       "      <th>promoMethodApp</th>\n",
       "      <th>promoMethodSoc</th>\n",
       "      <th>promoMethodEmail</th>\n",
       "      <th>promoMethodDeal</th>\n",
       "      <th>promoMethodFriend</th>\n",
       "      <th>promoMethodDisplay</th>\n",
       "      <th>promoMethodBillboard</th>\n",
       "      <th>promoMethodOthers</th>\n",
       "      <th>loyal</th>\n",
       "    </tr>\n",
       "  </thead>\n",
       "  <tbody>\n",
       "    <tr>\n",
       "      <th>0</th>\n",
       "      <td>1</td>\n",
       "      <td>1</td>\n",
       "      <td>1</td>\n",
       "      <td>0</td>\n",
       "      <td>0</td>\n",
       "      <td>3</td>\n",
       "      <td>0</td>\n",
       "      <td>1</td>\n",
       "      <td>0</td>\n",
       "      <td>0</td>\n",
       "      <td>...</td>\n",
       "      <td>3</td>\n",
       "      <td>1</td>\n",
       "      <td>1</td>\n",
       "      <td>1</td>\n",
       "      <td>1</td>\n",
       "      <td>1</td>\n",
       "      <td>1</td>\n",
       "      <td>1</td>\n",
       "      <td>1</td>\n",
       "      <td>0</td>\n",
       "    </tr>\n",
       "    <tr>\n",
       "      <th>1</th>\n",
       "      <td>2</td>\n",
       "      <td>1</td>\n",
       "      <td>1</td>\n",
       "      <td>0</td>\n",
       "      <td>0</td>\n",
       "      <td>3</td>\n",
       "      <td>2</td>\n",
       "      <td>0</td>\n",
       "      <td>1</td>\n",
       "      <td>0</td>\n",
       "      <td>...</td>\n",
       "      <td>2</td>\n",
       "      <td>1</td>\n",
       "      <td>1</td>\n",
       "      <td>1</td>\n",
       "      <td>1</td>\n",
       "      <td>1</td>\n",
       "      <td>1</td>\n",
       "      <td>1</td>\n",
       "      <td>1</td>\n",
       "      <td>0</td>\n",
       "    </tr>\n",
       "    <tr>\n",
       "      <th>2</th>\n",
       "      <td>3</td>\n",
       "      <td>0</td>\n",
       "      <td>1</td>\n",
       "      <td>2</td>\n",
       "      <td>0</td>\n",
       "      <td>2</td>\n",
       "      <td>0</td>\n",
       "      <td>1</td>\n",
       "      <td>2</td>\n",
       "      <td>0</td>\n",
       "      <td>...</td>\n",
       "      <td>3</td>\n",
       "      <td>1</td>\n",
       "      <td>1</td>\n",
       "      <td>1</td>\n",
       "      <td>1</td>\n",
       "      <td>1</td>\n",
       "      <td>1</td>\n",
       "      <td>1</td>\n",
       "      <td>1</td>\n",
       "      <td>0</td>\n",
       "    </tr>\n",
       "    <tr>\n",
       "      <th>3</th>\n",
       "      <td>4</td>\n",
       "      <td>1</td>\n",
       "      <td>1</td>\n",
       "      <td>0</td>\n",
       "      <td>0</td>\n",
       "      <td>3</td>\n",
       "      <td>2</td>\n",
       "      <td>0</td>\n",
       "      <td>2</td>\n",
       "      <td>1</td>\n",
       "      <td>...</td>\n",
       "      <td>3</td>\n",
       "      <td>1</td>\n",
       "      <td>1</td>\n",
       "      <td>1</td>\n",
       "      <td>1</td>\n",
       "      <td>1</td>\n",
       "      <td>1</td>\n",
       "      <td>1</td>\n",
       "      <td>1</td>\n",
       "      <td>1</td>\n",
       "    </tr>\n",
       "    <tr>\n",
       "      <th>4</th>\n",
       "      <td>5</td>\n",
       "      <td>0</td>\n",
       "      <td>1</td>\n",
       "      <td>0</td>\n",
       "      <td>0</td>\n",
       "      <td>2</td>\n",
       "      <td>2</td>\n",
       "      <td>1</td>\n",
       "      <td>1</td>\n",
       "      <td>1</td>\n",
       "      <td>...</td>\n",
       "      <td>3</td>\n",
       "      <td>1</td>\n",
       "      <td>1</td>\n",
       "      <td>1</td>\n",
       "      <td>1</td>\n",
       "      <td>1</td>\n",
       "      <td>1</td>\n",
       "      <td>1</td>\n",
       "      <td>1</td>\n",
       "      <td>0</td>\n",
       "    </tr>\n",
       "  </tbody>\n",
       "</table>\n",
       "<p>5 rows × 33 columns</p>\n",
       "</div>"
      ],
      "text/plain": [
       "   Id  gender  age  status  income  visitNo  method  timeSpend  location  \\\n",
       "0   1       1    1       0       0        3       0          1         0   \n",
       "1   2       1    1       0       0        3       2          0         1   \n",
       "2   3       0    1       2       0        2       0          1         2   \n",
       "3   4       1    1       0       0        3       2          0         2   \n",
       "4   5       0    1       0       0        2       2          1         1   \n",
       "\n",
       "   membershipCard  ...  chooseRate  promoMethodApp  promoMethodSoc  \\\n",
       "0               0  ...           3               1               1   \n",
       "1               0  ...           2               1               1   \n",
       "2               0  ...           3               1               1   \n",
       "3               1  ...           3               1               1   \n",
       "4               1  ...           3               1               1   \n",
       "\n",
       "   promoMethodEmail  promoMethodDeal  promoMethodFriend  promoMethodDisplay  \\\n",
       "0                 1                1                  1                   1   \n",
       "1                 1                1                  1                   1   \n",
       "2                 1                1                  1                   1   \n",
       "3                 1                1                  1                   1   \n",
       "4                 1                1                  1                   1   \n",
       "\n",
       "   promoMethodBillboard  promoMethodOthers  loyal  \n",
       "0                     1                  1      0  \n",
       "1                     1                  1      0  \n",
       "2                     1                  1      0  \n",
       "3                     1                  1      1  \n",
       "4                     1                  1      0  \n",
       "\n",
       "[5 rows x 33 columns]"
      ]
     },
     "execution_count": 3,
     "metadata": {},
     "output_type": "execute_result"
    }
   ],
   "source": [
    "df.head()"
   ]
  },
  {
   "cell_type": "markdown",
   "id": "56ff5cd7",
   "metadata": {},
   "source": [
    "## Prueba de hipotesis \n",
    "La prueba de hipotesis es una herramienta fundamental para determinar cual podria ser el valor de un parametro. Usaremos la encuesta de Starbucks para analizar casos de diferencias entre poblaciones y para comparar medias."
   ]
  },
  {
   "cell_type": "markdown",
   "id": "2fbd37af",
   "metadata": {},
   "source": [
    "Para hacer mas entretenido este notebook vamos a modificar algunas variables. Se tiene en cuenta que este notebook es con fines didacticos para practicar estadistica inferencial."
   ]
  },
  {
   "cell_type": "markdown",
   "id": "5fb00ffb",
   "metadata": {},
   "source": [
    "Modificamos algunas variables codificadas a valores cuantitativos"
   ]
  },
  {
   "cell_type": "code",
   "execution_count": 4,
   "id": "62a22878",
   "metadata": {},
   "outputs": [],
   "source": [
    "df[\"incomeNumber\"]=df.income.replace({0:randrange(1000,4999), 1:randrange(5000,9999), 2:randrange(10000,19999), 3:randrange(20000,29999), 3:randrange(30000,45000)})"
   ]
  },
  {
   "cell_type": "code",
   "execution_count": 5,
   "id": "d69dcdd8",
   "metadata": {},
   "outputs": [],
   "source": [
    "df[\"ageNumber\"]=df.age.replace({0:randrange(15,19), 1:randrange(20,29), 2:randrange(30,39), 3:randrange(40,60)})"
   ]
  },
  {
   "cell_type": "markdown",
   "id": "aeab88e8",
   "metadata": {},
   "source": [
    "Para el analisis de proporciones usaremos variables categoricas por lo tanto modificamos unas variables debido a que la encuesta se encuentra codificada."
   ]
  },
  {
   "cell_type": "code",
   "execution_count": 6,
   "id": "9e929e67",
   "metadata": {},
   "outputs": [],
   "source": [
    "df[\"genderx\"]=df.gender.replace({0:\"Male\", 1:\"Female\"})\n",
    "df[\"membershipCardx\"]=df.membershipCard.replace({0:\"Yes\",1:\"No\"})\n",
    "df[\"serviceRatex\"]=df.serviceRate.replace({1:\"Bad\",2:\"Bad\",3:\"Bad\", 4:\"Good\", 5:\"Good\"})"
   ]
  },
  {
   "cell_type": "markdown",
   "id": "c3b5dfa9",
   "metadata": {},
   "source": [
    "## Prueba de hipotesis para una proporcion\n",
    "Supongamos que en encuestas de Starbucks de otro pais se tiene que el 40% de los consumidores son del genero femenino. Por lo tanto se construye una prueba de hipotesis (two-sided) de que la proporcion de consumidores mujeres es del 40%.\n",
    "\n",
    "**Population**: Consumidores de Starbucks  \n",
    "**Parameter of Interest**: p  \n",
    "**Null Hypothesis:** p = 0.40  \n",
    "**Alternative Hypthosis:** p $\\neq$ 0.40\n",
    "\n",
    "Se desea saber si el 40% de los consumidores son mujeres"
   ]
  },
  {
   "cell_type": "code",
   "execution_count": 7,
   "id": "2785b03a",
   "metadata": {},
   "outputs": [
    {
     "data": {
      "text/plain": [
       "0.5221238938053098"
      ]
     },
     "execution_count": 7,
     "metadata": {},
     "output_type": "execute_result"
    }
   ],
   "source": [
    "x = df.genderx.dropna() == \"Female\"  # segmentamos la poblacion de interes\n",
    "p = x.mean() # obtenemos su media\n",
    "p"
   ]
  },
  {
   "cell_type": "code",
   "execution_count": 8,
   "id": "88b5df2a",
   "metadata": {},
   "outputs": [
    {
     "data": {
      "text/plain": [
       "0.04608572235855411"
      ]
     },
     "execution_count": 8,
     "metadata": {},
     "output_type": "execute_result"
    }
   ],
   "source": [
    "se = np.sqrt(.4 * (1 - .4)/ len(x)) \n",
    "se"
   ]
  },
  {
   "cell_type": "code",
   "execution_count": 9,
   "id": "30b255f5",
   "metadata": {},
   "outputs": [
    {
     "name": "stdout",
     "output_type": "stream",
     "text": [
      "Valor test_stat 2.6499290356168617\n",
      "Con un p_valor de 0.008050867934535846\n"
     ]
    }
   ],
   "source": [
    "test_stat = (p - 0.4) / se\n",
    "pvalue = 2 * dist.norm.cdf(-np.abs(test_stat))\n",
    "print(\"Valor test_stat\", test_stat)\n",
    "print(\"Con un p_valor de\",\n",
    "pvalue)"
   ]
  },
  {
   "cell_type": "markdown",
   "id": "4c35ac25",
   "metadata": {},
   "source": [
    "**Insight**\n",
    "\n",
    "Como resultado tenemos un pvalor menor a la significacia del 0.05 por lo que rechazamos la Hipotesis nula. Por lo tanto los consumidores del genero femenino no es un 40% de la poblacion. \n",
    "\n",
    "Realizando el mismo analisis pero con la libreria statsmodels:"
   ]
  },
  {
   "cell_type": "code",
   "execution_count": 10,
   "id": "f3e5d0c4",
   "metadata": {},
   "outputs": [
    {
     "data": {
      "text/plain": [
       "(2.6499290356168617, 0.008050867934535846)"
      ]
     },
     "execution_count": 10,
     "metadata": {},
     "output_type": "execute_result"
    }
   ],
   "source": [
    "n = 113\n",
    "pnull = .40\n",
    "phat = p\n",
    "sm.stats.proportions_ztest(phat * n, n, pnull, alternative='two-sided', prop_var=0.4)"
   ]
  },
  {
   "cell_type": "markdown",
   "id": "1c1f0281",
   "metadata": {},
   "source": [
    "## Prueba de hipotesis para dos proporciones \n",
    "Para realizar este analisis vamos a formular la siguiente pregunta:\n",
    "¿es significante la diferencia entre la proporcion de consumidores masculinos y femeninos que reportan poseer tarjeta de membresia? \n",
    "\n",
    "**Populations**: Consumidores de Starbucks que tienen tarjeta de membresia  \n",
    "**Parameter of Interest**: p1 - p2, where p1 = female and p2 = male  \n",
    "**Null Hypothesis:** p1 - p2 = 0  \n",
    "**Alternative Hypthosis:** p1 - p2 $\\neq$ 0 "
   ]
  },
  {
   "cell_type": "code",
   "execution_count": 11,
   "id": "7fcebf9d",
   "metadata": {},
   "outputs": [
    {
     "data": {
      "text/html": [
       "<div>\n",
       "<style scoped>\n",
       "    .dataframe tbody tr th:only-of-type {\n",
       "        vertical-align: middle;\n",
       "    }\n",
       "\n",
       "    .dataframe tbody tr th {\n",
       "        vertical-align: top;\n",
       "    }\n",
       "\n",
       "    .dataframe thead th {\n",
       "        text-align: right;\n",
       "    }\n",
       "</style>\n",
       "<table border=\"1\" class=\"dataframe\">\n",
       "  <thead>\n",
       "    <tr style=\"text-align: right;\">\n",
       "      <th>genderx</th>\n",
       "      <th>Female</th>\n",
       "      <th>Male</th>\n",
       "    </tr>\n",
       "    <tr>\n",
       "      <th>membershipCardx</th>\n",
       "      <th></th>\n",
       "      <th></th>\n",
       "    </tr>\n",
       "  </thead>\n",
       "  <tbody>\n",
       "    <tr>\n",
       "      <th>No</th>\n",
       "      <td>29</td>\n",
       "      <td>24</td>\n",
       "    </tr>\n",
       "    <tr>\n",
       "      <th>Yes</th>\n",
       "      <td>30</td>\n",
       "      <td>30</td>\n",
       "    </tr>\n",
       "  </tbody>\n",
       "</table>\n",
       "</div>"
      ],
      "text/plain": [
       "genderx          Female  Male\n",
       "membershipCardx              \n",
       "No                   29    24\n",
       "Yes                  30    30"
      ]
     },
     "execution_count": 11,
     "metadata": {},
     "output_type": "execute_result"
    }
   ],
   "source": [
    "dx = df[[\"membershipCardx\", \"genderx\"]].dropna()  # dropna drops cases where either variable is missing\n",
    "pd.crosstab(dx.membershipCardx, dx.genderx)"
   ]
  },
  {
   "cell_type": "code",
   "execution_count": 12,
   "id": "980ac3a9",
   "metadata": {},
   "outputs": [
    {
     "name": "stdout",
     "output_type": "stream",
     "text": [
      "         Proportion   N\n",
      "genderx                \n",
      "Female     0.508475  59\n",
      "Male       0.555556  54\n",
      "\n",
      "El test_stat es -0.500949821465002\n",
      "El pvalor para esta prueba es 0.6164064379282452\n"
     ]
    }
   ],
   "source": [
    "dz = dx.groupby(dx.genderx).agg({\"membershipCardx\": [lambda x: np.mean(x==\"Yes\"), np.size]})\n",
    "dz.columns = [\"Proportion\", \"N\"] # The default column names are unclear, so we replace them here\n",
    "print(dz) \n",
    "\n",
    "# The pooled rate of yes responses, and the standard error of the estimated difference of proportions\n",
    "p_hat2 = (dx.membershipCardx == \"Yes\").mean()\n",
    "va = p_hat2 * (1 - p_hat2)\n",
    "se = np.sqrt(va * (1 / dz.N.Female  + 1 / dz.N.Male))\n",
    "\n",
    "# Calculate the test statistic and its p-value\n",
    "test_stat = (0.508475 - 0.555556) / se\n",
    "pvalue = 2*dist.norm.cdf(-np.abs(test_stat))\n",
    "\n",
    "print(\"\\nEl test_stat es\", (test_stat))\n",
    "print(\"El pvalor para esta prueba es\", (pvalue))"
   ]
  },
  {
   "cell_type": "markdown",
   "id": "5581485a",
   "metadata": {},
   "source": [
    "**Insight**\n",
    "\n",
    "Se presenta un pvalor mayor al 0.05 por lo que se falla en rechazar la hipotesis nula. Por lo tanto no hay diferencia estadisticamente significativa entre la proporcion de consumidores masculinos y femeninos que reportan poseer tarjeta de membresia. \n",
    "\n",
    "Realizando el mismo analisis pero con la libreria statsmodels:"
   ]
  },
  {
   "cell_type": "code",
   "execution_count": 13,
   "id": "f5d10dba",
   "metadata": {},
   "outputs": [],
   "source": [
    "successes = np.array([30, 30])  # número de éxitos en cada grupo\n",
    "totals = np.array([59, 54])  # tamaño de muestra en cada grupo\n",
    "\n",
    "stat, p_value = sm.stats.proportions_ztest(successes, totals)"
   ]
  },
  {
   "cell_type": "code",
   "execution_count": 14,
   "id": "ee655c37",
   "metadata": {},
   "outputs": [
    {
     "name": "stdout",
     "output_type": "stream",
     "text": [
      "Con una prueba estadistica del -0.5009\n",
      "y un valor p del 0.616\n",
      "No hay suficiente evidencia para rechazar la hipotesis nula.\n"
     ]
    }
   ],
   "source": [
    "print(f\"Con una prueba estadistica del {stat:.4f}\")\n",
    "print(f\"y un valor p del {p_value:.3f}\")\n",
    "if p_value < 0.05:\n",
    "    print(\"Hay evidencia suficiente para rechazar la hipotesis nula.\")\n",
    "else:\n",
    "    print(\"No hay suficiente evidencia para rechazar la hipotesis nula.\")\n"
   ]
  },
  {
   "cell_type": "markdown",
   "id": "52213502",
   "metadata": {},
   "source": [
    "### Prueba de hipotesis para medias\n",
    "\n",
    "#### Una Media\n",
    "\n",
    "Para esta seccion buscaremos probar la pregunta: \n",
    "¿es el salario promedio de los consumidores de Starbucks superior a $5,000.00 dolares anuales?\n",
    "\n",
    "**Population**: Todos los consumidores \n",
    "**Parameter of Interest**: $\\mu$, salario promedio de los consumidores.\n",
    "**Null Hypothesis:** $\\mu$ = 5000\n",
    "**Alternative Hypthosis:** $\\mu$ > 5000"
   ]
  },
  {
   "cell_type": "code",
   "execution_count": 15,
   "id": "afe6b4c6",
   "metadata": {},
   "outputs": [
    {
     "data": {
      "text/plain": [
       "(113, 5627.1061946902655, 5903.412938962318)"
      ]
     },
     "execution_count": 15,
     "metadata": {},
     "output_type": "execute_result"
    }
   ],
   "source": [
    "n = len(df)\n",
    "mean = df[\"incomeNumber\"].mean()\n",
    "sd = df[\"incomeNumber\"].std()\n",
    "(n, mean, sd)"
   ]
  },
  {
   "cell_type": "code",
   "execution_count": 16,
   "id": "7fcccbe5",
   "metadata": {},
   "outputs": [],
   "source": [
    "test_stat, p_value = sm.stats.ztest(df[\"incomeNumber\"], value = 5000, alternative = \"larger\")"
   ]
  },
  {
   "cell_type": "markdown",
   "id": "ff61db2c",
   "metadata": {},
   "source": [
    "**Insight**"
   ]
  },
  {
   "cell_type": "code",
   "execution_count": 17,
   "id": "dcf0fdfc",
   "metadata": {},
   "outputs": [
    {
     "name": "stdout",
     "output_type": "stream",
     "text": [
      "Con una prueba estadistica del 1.1292\n",
      "y un valor p del 0.1294033\n",
      "No hay suficiente evidencia para rechazar la hipotesis.\n"
     ]
    }
   ],
   "source": [
    "print(f\"Con una prueba estadistica del {test_stat:.4f}\")\n",
    "print(f\"y un valor p del {p_value:.7f}\")\n",
    "if p_value < 0.05:\n",
    "    print(\"Hay evidencia suficiente para rechazar la hipotesis nula.\")\n",
    "else:\n",
    "    print(\"No hay suficiente evidencia para rechazar la hipotesis.\") "
   ]
  },
  {
   "attachments": {},
   "cell_type": "markdown",
   "id": "270209a8",
   "metadata": {},
   "source": [
    "#### Diferencia en medias \n",
    "\n",
    "¿Considerando a los consumidores, las personas que dan serviceRate malos tienen una edad promedio diferente a quienes dan serviceRate buenos?\n",
    "\n",
    "**Population**: Consumidores de Starbucks.  \n",
    "**Parameter of Interest**: $\\mu_1 - \\mu_2$, Edad promedio. Donde\n",
    "$\\mu_1$ es edad promedio de quienes dan mala califacacion $\\mu_2$ edad promedio de consumidores que dan calificacion positiva.\n",
    "\n",
    "**Null Hypothesis:** $\\mu_1 = \\mu_2$  No hay diferencia \n",
    "\n",
    "**Alternative Hypthosis:** $\\mu_1 \\neq \\mu_2$ Si hay diferencia"
   ]
  },
  {
   "cell_type": "code",
   "execution_count": 18,
   "id": "370d825f",
   "metadata": {},
   "outputs": [
    {
     "data": {
      "text/html": [
       "<div>\n",
       "<style scoped>\n",
       "    .dataframe tbody tr th:only-of-type {\n",
       "        vertical-align: middle;\n",
       "    }\n",
       "\n",
       "    .dataframe tbody tr th {\n",
       "        vertical-align: top;\n",
       "    }\n",
       "\n",
       "    .dataframe thead tr th {\n",
       "        text-align: left;\n",
       "    }\n",
       "\n",
       "    .dataframe thead tr:last-of-type th {\n",
       "        text-align: right;\n",
       "    }\n",
       "</style>\n",
       "<table border=\"1\" class=\"dataframe\">\n",
       "  <thead>\n",
       "    <tr>\n",
       "      <th></th>\n",
       "      <th colspan=\"3\" halign=\"left\">ageNumber</th>\n",
       "    </tr>\n",
       "    <tr>\n",
       "      <th></th>\n",
       "      <th>mean</th>\n",
       "      <th>std</th>\n",
       "      <th>size</th>\n",
       "    </tr>\n",
       "    <tr>\n",
       "      <th>serviceRatex</th>\n",
       "      <th></th>\n",
       "      <th></th>\n",
       "      <th></th>\n",
       "    </tr>\n",
       "  </thead>\n",
       "  <tbody>\n",
       "    <tr>\n",
       "      <th>Bad</th>\n",
       "      <td>25.525000</td>\n",
       "      <td>6.763353</td>\n",
       "      <td>40</td>\n",
       "    </tr>\n",
       "    <tr>\n",
       "      <th>Good</th>\n",
       "      <td>26.123288</td>\n",
       "      <td>6.105428</td>\n",
       "      <td>73</td>\n",
       "    </tr>\n",
       "  </tbody>\n",
       "</table>\n",
       "</div>"
      ],
      "text/plain": [
       "              ageNumber               \n",
       "                   mean       std size\n",
       "serviceRatex                          \n",
       "Bad           25.525000  6.763353   40\n",
       "Good          26.123288  6.105428   73"
      ]
     },
     "execution_count": 18,
     "metadata": {},
     "output_type": "execute_result"
    }
   ],
   "source": [
    "# Cruzamos variables para obtener su media, std y su size \n",
    "df.groupby(\"serviceRatex\").agg({\"ageNumber\": [np.mean, np.std, np.size]})"
   ]
  },
  {
   "cell_type": "code",
   "execution_count": 19,
   "id": "d7b6f382",
   "metadata": {},
   "outputs": [],
   "source": [
    "#Filtramos y creamos objetos\n",
    "bad = df[df[\"serviceRatex\"] == \"Bad\"]\n",
    "good = df[df[\"serviceRatex\"] == \"Good\"]"
   ]
  },
  {
   "cell_type": "code",
   "execution_count": 20,
   "id": "ecae65c5",
   "metadata": {},
   "outputs": [],
   "source": [
    "n1 = len(bad)\n",
    "mu1 = bad[\"ageNumber\"].mean()\n",
    "sd1 = bad[\"ageNumber\"].std()"
   ]
  },
  {
   "cell_type": "code",
   "execution_count": 21,
   "id": "54f8b6a4",
   "metadata": {},
   "outputs": [],
   "source": [
    "n2 = len(good)\n",
    "mu2 = good[\"ageNumber\"].mean()\n",
    "sd2 = good[\"ageNumber\"].std()"
   ]
  },
  {
   "cell_type": "code",
   "execution_count": 22,
   "id": "efddb343",
   "metadata": {},
   "outputs": [],
   "source": [
    "# corremos la prueba con statsmodels \n",
    "test, p_value = sm.stats.ztest(bad[\"ageNumber\"].dropna(), good[\"ageNumber\"].dropna())"
   ]
  },
  {
   "cell_type": "markdown",
   "id": "493561d4",
   "metadata": {},
   "source": [
    "**Insight**"
   ]
  },
  {
   "cell_type": "code",
   "execution_count": 23,
   "id": "ca58a80b",
   "metadata": {},
   "outputs": [
    {
     "name": "stdout",
     "output_type": "stream",
     "text": [
      "Con una prueba estadistica del -0.4794\n",
      "y un valor p del 0.6316732\n",
      "No hay suficiente evidencia para rechazar la hipotesis.\n"
     ]
    }
   ],
   "source": [
    "print(f\"Con una prueba estadistica del {test:.4f}\")\n",
    "print(f\"y un valor p del {p_value:.7f}\")\n",
    "if p_value < 0.05:\n",
    "    print(\"Hay evidencia suficiente para rechazar la hipotesis nula.\")\n",
    "else:\n",
    "    print(\"No hay suficiente evidencia para rechazar la hipotesis.\") "
   ]
  }
 ],
 "metadata": {
  "kernelspec": {
   "display_name": "Python 3 (ipykernel)",
   "language": "python",
   "name": "python3"
  },
  "language_info": {
   "codemirror_mode": {
    "name": "ipython",
    "version": 3
   },
   "file_extension": ".py",
   "mimetype": "text/x-python",
   "name": "python",
   "nbconvert_exporter": "python",
   "pygments_lexer": "ipython3",
   "version": "3.10.8"
  },
  "vscode": {
   "interpreter": {
    "hash": "27f6fea6f47ae512550f0b8facdbd035a93e1dd89633f7bf2dd00a2502c71d0d"
   }
  }
 },
 "nbformat": 4,
 "nbformat_minor": 5
}
