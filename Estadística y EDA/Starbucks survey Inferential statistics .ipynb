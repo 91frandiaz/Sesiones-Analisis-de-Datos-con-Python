{
 "cells": [
  {
   "cell_type": "markdown",
   "id": "c322dbdb",
   "metadata": {
    "tags": []
   },
   "source": [
    "# Case study Starbucks satisfaction survey. Inferential statistics.\n",
    "Por: Francisco Jose Diaz **-** Data analyst de El Salvador"
   ]
  },
  {
   "cell_type": "markdown",
   "id": "fb951d08-f09b-412d-81f3-fb14495e2db7",
   "metadata": {},
   "source": [
    "Este notebook tiene como objetivo practicar estadistica inferencial con las bibliotecas de Python para construir intervalos de confianza para la diferencia entre dos proporciones y medias de poblacion. Los resultados son con fines didacticos.\n",
    "\n",
    "Fuente de los datos: [Kaggle](https://www.kaggle.com/datasets/mahirahmzh/starbucks-customer-retention-malaysia-survey?select=Starbucks+satisfactory+survey+encode+cleaned.csv)"
   ]
  },
  {
   "cell_type": "markdown",
   "id": "1ffa0528-b04d-4bbb-a586-5940b311c5b7",
   "metadata": {
    "tags": []
   },
   "source": [
    "## Setup"
   ]
  },
  {
   "cell_type": "code",
   "execution_count": 1,
   "id": "e9f4901b",
   "metadata": {},
   "outputs": [],
   "source": [
    "%matplotlib inline\n",
    "import matplotlib.pyplot as plt\n",
    "import pandas as pd\n",
    "import numpy as np\n",
    "import seaborn as sns\n",
    "import statsmodels.api as sm"
   ]
  },
  {
   "cell_type": "code",
   "execution_count": 2,
   "id": "a30a4d9c",
   "metadata": {},
   "outputs": [],
   "source": [
    "df = pd.read_csv(\"Starbucks satisfactory survey encode cleaned.csv\")"
   ]
  },
  {
   "cell_type": "markdown",
   "id": "a30e6fac-e56a-4237-9b56-5bb7ccb417a2",
   "metadata": {
    "tags": []
   },
   "source": [
    "# Explorando los datos"
   ]
  },
  {
   "cell_type": "code",
   "execution_count": 3,
   "id": "df3f6876",
   "metadata": {},
   "outputs": [
    {
     "data": {
      "text/html": [
       "<div>\n",
       "<style scoped>\n",
       "    .dataframe tbody tr th:only-of-type {\n",
       "        vertical-align: middle;\n",
       "    }\n",
       "\n",
       "    .dataframe tbody tr th {\n",
       "        vertical-align: top;\n",
       "    }\n",
       "\n",
       "    .dataframe thead th {\n",
       "        text-align: right;\n",
       "    }\n",
       "</style>\n",
       "<table border=\"1\" class=\"dataframe\">\n",
       "  <thead>\n",
       "    <tr style=\"text-align: right;\">\n",
       "      <th></th>\n",
       "      <th>Id</th>\n",
       "      <th>gender</th>\n",
       "      <th>age</th>\n",
       "      <th>status</th>\n",
       "      <th>income</th>\n",
       "      <th>visitNo</th>\n",
       "      <th>method</th>\n",
       "      <th>timeSpend</th>\n",
       "      <th>location</th>\n",
       "      <th>membershipCard</th>\n",
       "      <th>...</th>\n",
       "      <th>chooseRate</th>\n",
       "      <th>promoMethodApp</th>\n",
       "      <th>promoMethodSoc</th>\n",
       "      <th>promoMethodEmail</th>\n",
       "      <th>promoMethodDeal</th>\n",
       "      <th>promoMethodFriend</th>\n",
       "      <th>promoMethodDisplay</th>\n",
       "      <th>promoMethodBillboard</th>\n",
       "      <th>promoMethodOthers</th>\n",
       "      <th>loyal</th>\n",
       "    </tr>\n",
       "  </thead>\n",
       "  <tbody>\n",
       "    <tr>\n",
       "      <th>0</th>\n",
       "      <td>1</td>\n",
       "      <td>1</td>\n",
       "      <td>1</td>\n",
       "      <td>0</td>\n",
       "      <td>0</td>\n",
       "      <td>3</td>\n",
       "      <td>0</td>\n",
       "      <td>1</td>\n",
       "      <td>0</td>\n",
       "      <td>0</td>\n",
       "      <td>...</td>\n",
       "      <td>3</td>\n",
       "      <td>1</td>\n",
       "      <td>1</td>\n",
       "      <td>1</td>\n",
       "      <td>1</td>\n",
       "      <td>1</td>\n",
       "      <td>1</td>\n",
       "      <td>1</td>\n",
       "      <td>1</td>\n",
       "      <td>0</td>\n",
       "    </tr>\n",
       "    <tr>\n",
       "      <th>1</th>\n",
       "      <td>2</td>\n",
       "      <td>1</td>\n",
       "      <td>1</td>\n",
       "      <td>0</td>\n",
       "      <td>0</td>\n",
       "      <td>3</td>\n",
       "      <td>2</td>\n",
       "      <td>0</td>\n",
       "      <td>1</td>\n",
       "      <td>0</td>\n",
       "      <td>...</td>\n",
       "      <td>2</td>\n",
       "      <td>1</td>\n",
       "      <td>1</td>\n",
       "      <td>1</td>\n",
       "      <td>1</td>\n",
       "      <td>1</td>\n",
       "      <td>1</td>\n",
       "      <td>1</td>\n",
       "      <td>1</td>\n",
       "      <td>0</td>\n",
       "    </tr>\n",
       "    <tr>\n",
       "      <th>2</th>\n",
       "      <td>3</td>\n",
       "      <td>0</td>\n",
       "      <td>1</td>\n",
       "      <td>2</td>\n",
       "      <td>0</td>\n",
       "      <td>2</td>\n",
       "      <td>0</td>\n",
       "      <td>1</td>\n",
       "      <td>2</td>\n",
       "      <td>0</td>\n",
       "      <td>...</td>\n",
       "      <td>3</td>\n",
       "      <td>1</td>\n",
       "      <td>1</td>\n",
       "      <td>1</td>\n",
       "      <td>1</td>\n",
       "      <td>1</td>\n",
       "      <td>1</td>\n",
       "      <td>1</td>\n",
       "      <td>1</td>\n",
       "      <td>0</td>\n",
       "    </tr>\n",
       "    <tr>\n",
       "      <th>3</th>\n",
       "      <td>4</td>\n",
       "      <td>1</td>\n",
       "      <td>1</td>\n",
       "      <td>0</td>\n",
       "      <td>0</td>\n",
       "      <td>3</td>\n",
       "      <td>2</td>\n",
       "      <td>0</td>\n",
       "      <td>2</td>\n",
       "      <td>1</td>\n",
       "      <td>...</td>\n",
       "      <td>3</td>\n",
       "      <td>1</td>\n",
       "      <td>1</td>\n",
       "      <td>1</td>\n",
       "      <td>1</td>\n",
       "      <td>1</td>\n",
       "      <td>1</td>\n",
       "      <td>1</td>\n",
       "      <td>1</td>\n",
       "      <td>1</td>\n",
       "    </tr>\n",
       "    <tr>\n",
       "      <th>4</th>\n",
       "      <td>5</td>\n",
       "      <td>0</td>\n",
       "      <td>1</td>\n",
       "      <td>0</td>\n",
       "      <td>0</td>\n",
       "      <td>2</td>\n",
       "      <td>2</td>\n",
       "      <td>1</td>\n",
       "      <td>1</td>\n",
       "      <td>1</td>\n",
       "      <td>...</td>\n",
       "      <td>3</td>\n",
       "      <td>1</td>\n",
       "      <td>1</td>\n",
       "      <td>1</td>\n",
       "      <td>1</td>\n",
       "      <td>1</td>\n",
       "      <td>1</td>\n",
       "      <td>1</td>\n",
       "      <td>1</td>\n",
       "      <td>0</td>\n",
       "    </tr>\n",
       "  </tbody>\n",
       "</table>\n",
       "<p>5 rows × 33 columns</p>\n",
       "</div>"
      ],
      "text/plain": [
       "   Id  gender  age  status  income  visitNo  method  timeSpend  location  \\\n",
       "0   1       1    1       0       0        3       0          1         0   \n",
       "1   2       1    1       0       0        3       2          0         1   \n",
       "2   3       0    1       2       0        2       0          1         2   \n",
       "3   4       1    1       0       0        3       2          0         2   \n",
       "4   5       0    1       0       0        2       2          1         1   \n",
       "\n",
       "   membershipCard  ...  chooseRate  promoMethodApp  promoMethodSoc  \\\n",
       "0               0  ...           3               1               1   \n",
       "1               0  ...           2               1               1   \n",
       "2               0  ...           3               1               1   \n",
       "3               1  ...           3               1               1   \n",
       "4               1  ...           3               1               1   \n",
       "\n",
       "   promoMethodEmail  promoMethodDeal  promoMethodFriend  promoMethodDisplay  \\\n",
       "0                 1                1                  1                   1   \n",
       "1                 1                1                  1                   1   \n",
       "2                 1                1                  1                   1   \n",
       "3                 1                1                  1                   1   \n",
       "4                 1                1                  1                   1   \n",
       "\n",
       "   promoMethodBillboard  promoMethodOthers  loyal  \n",
       "0                     1                  1      0  \n",
       "1                     1                  1      0  \n",
       "2                     1                  1      0  \n",
       "3                     1                  1      1  \n",
       "4                     1                  1      0  \n",
       "\n",
       "[5 rows x 33 columns]"
      ]
     },
     "execution_count": 3,
     "metadata": {},
     "output_type": "execute_result"
    }
   ],
   "source": [
    "df.head()"
   ]
  },
  {
   "cell_type": "markdown",
   "id": "230b75ba-1f12-4e04-99a2-7840914ab59a",
   "metadata": {},
   "source": [
    "# Confidence intervals\n",
    "Los intervalos de confianza son un rango calculado alrededor de un parametro que se respalda con un cierto nivel de confianza.\n",
    "\n",
    "Supongamos que el gerente de marketing nos pide el dato del promedio de ingreso de los consumidores de Starbucks, entonces para presentarle un resultado con fundamento estadistico construiremos un intervalo de confianza.\n",
    "\n",
    "La encuesta nos presenta la variable income pero esta codificada. Para hacer mas entretenido este notebook vamos a modificar esa variable. Se tiene en cuenta que este notebook es todo con fines didacticos para practicar estadistica inferencial. "
   ]
  },
  {
   "cell_type": "code",
   "execution_count": 4,
   "id": "cb3247f4-1205-44f8-be8a-9c12a83830b9",
   "metadata": {},
   "outputs": [],
   "source": [
    "# usamos libreria statsmodels\n",
    "import statsmodels.api as sm\n",
    "\n",
    "# usaremos la libreria random\n",
    "from random import randrange"
   ]
  },
  {
   "cell_type": "markdown",
   "id": "64fb39a3-a5fb-4bd8-9436-3fd6511970fc",
   "metadata": {},
   "source": [
    "Modicamos la variable"
   ]
  },
  {
   "cell_type": "code",
   "execution_count": 5,
   "id": "7181552c-1ef0-4188-ad90-c63260d7e5de",
   "metadata": {},
   "outputs": [],
   "source": [
    "df[\"incomeNumber\"]=df.income.replace({0:randrange(1000,4999), 1:randrange(5000,9999), 2:randrange(10000,19999), 3:randrange(20000,29999), 3:randrange(30000,45000)})"
   ]
  },
  {
   "cell_type": "code",
   "execution_count": 6,
   "id": "fafe5086-5abf-48f7-998a-91663ccb9d77",
   "metadata": {},
   "outputs": [
    {
     "data": {
      "text/plain": [
       "(4472.812160898447, 7239.6834143227925)"
      ]
     },
     "execution_count": 6,
     "metadata": {},
     "output_type": "execute_result"
    }
   ],
   "source": [
    "sm.stats.DescrStatsW(df[\"incomeNumber\"]).zconfint_mean()"
   ]
  },
  {
   "cell_type": "markdown",
   "id": "14a9ee77-9310-401d-8758-bf1780739e65",
   "metadata": {},
   "source": [
    "Con 95% de confianza se tiene la certeza que el ingreso de los consumidores se encuentra en un rango de 4472.81 a 7239.68 dolares anuales."
   ]
  },
  {
   "cell_type": "markdown",
   "id": "a16493ae-69fc-4553-af1b-4599f394ebf4",
   "metadata": {},
   "source": [
    "# Confidence intervals for one proportion\n",
    "\n",
    "El objetivo de esta seccion es demostrar la construccion de intervalos de confianza para una proporcion. Primero reemplazamos los codigos numericos en las variables de interes con etiquetas de texto, con esto ahora podemos tabular los numeros de female y male yes-menbershipcard and non-menbershipcard:"
   ]
  },
  {
   "cell_type": "code",
   "execution_count": 7,
   "id": "c41cd2ba",
   "metadata": {},
   "outputs": [],
   "source": [
    "df[\"genderx\"]=df.gender.replace({0:\"Male\", 1:\"Female\"})"
   ]
  },
  {
   "cell_type": "code",
   "execution_count": 8,
   "id": "7fcebf9d",
   "metadata": {},
   "outputs": [],
   "source": [
    "df[\"membershipCardx\"]=df.membershipCard.replace({0:\"Yes\",1:\"No\"})"
   ]
  },
  {
   "cell_type": "code",
   "execution_count": 9,
   "id": "00c2e8ac",
   "metadata": {},
   "outputs": [
    {
     "data": {
      "text/html": [
       "<div>\n",
       "<style scoped>\n",
       "    .dataframe tbody tr th:only-of-type {\n",
       "        vertical-align: middle;\n",
       "    }\n",
       "\n",
       "    .dataframe tbody tr th {\n",
       "        vertical-align: top;\n",
       "    }\n",
       "\n",
       "    .dataframe thead th {\n",
       "        text-align: right;\n",
       "    }\n",
       "</style>\n",
       "<table border=\"1\" class=\"dataframe\">\n",
       "  <thead>\n",
       "    <tr style=\"text-align: right;\">\n",
       "      <th>genderx</th>\n",
       "      <th>Female</th>\n",
       "      <th>Male</th>\n",
       "    </tr>\n",
       "    <tr>\n",
       "      <th>membershipCardx</th>\n",
       "      <th></th>\n",
       "      <th></th>\n",
       "    </tr>\n",
       "  </thead>\n",
       "  <tbody>\n",
       "    <tr>\n",
       "      <th>No</th>\n",
       "      <td>29</td>\n",
       "      <td>24</td>\n",
       "    </tr>\n",
       "    <tr>\n",
       "      <th>Yes</th>\n",
       "      <td>30</td>\n",
       "      <td>30</td>\n",
       "    </tr>\n",
       "  </tbody>\n",
       "</table>\n",
       "</div>"
      ],
      "text/plain": [
       "genderx          Female  Male\n",
       "membershipCardx              \n",
       "No                   29    24\n",
       "Yes                  30    30"
      ]
     },
     "execution_count": 9,
     "metadata": {},
     "output_type": "execute_result"
    }
   ],
   "source": [
    "dx = df[[\"membershipCardx\", \"genderx\"]].dropna()  # dropna drops cases where either variable is missing\n",
    "pd.crosstab(dx.membershipCardx, dx.genderx)"
   ]
  },
  {
   "cell_type": "markdown",
   "id": "b14f97db-7fea-4e9f-9b8f-f3d0ac32cf3f",
   "metadata": {},
   "source": [
    "El intervalo de confianza (IC) se construye usando dos entradas: la proporcion de la muestra de membership y el total sample size for yes-menbershipcard and non-menbershipcard combined. Calculamos estos valores a continuacion."
   ]
  },
  {
   "cell_type": "code",
   "execution_count": 10,
   "id": "255a7c37",
   "metadata": {},
   "outputs": [
    {
     "data": {
      "text/html": [
       "<div>\n",
       "<style scoped>\n",
       "    .dataframe tbody tr th:only-of-type {\n",
       "        vertical-align: middle;\n",
       "    }\n",
       "\n",
       "    .dataframe tbody tr th {\n",
       "        vertical-align: top;\n",
       "    }\n",
       "\n",
       "    .dataframe thead th {\n",
       "        text-align: right;\n",
       "    }\n",
       "</style>\n",
       "<table border=\"1\" class=\"dataframe\">\n",
       "  <thead>\n",
       "    <tr style=\"text-align: right;\">\n",
       "      <th></th>\n",
       "      <th>Proportion</th>\n",
       "      <th>Total_n</th>\n",
       "    </tr>\n",
       "    <tr>\n",
       "      <th>genderx</th>\n",
       "      <th></th>\n",
       "      <th></th>\n",
       "    </tr>\n",
       "  </thead>\n",
       "  <tbody>\n",
       "    <tr>\n",
       "      <th>Female</th>\n",
       "      <td>0.508475</td>\n",
       "      <td>59</td>\n",
       "    </tr>\n",
       "    <tr>\n",
       "      <th>Male</th>\n",
       "      <td>0.555556</td>\n",
       "      <td>54</td>\n",
       "    </tr>\n",
       "  </tbody>\n",
       "</table>\n",
       "</div>"
      ],
      "text/plain": [
       "         Proportion  Total_n\n",
       "genderx                     \n",
       "Female     0.508475       59\n",
       "Male       0.555556       54"
      ]
     },
     "execution_count": 10,
     "metadata": {},
     "output_type": "execute_result"
    }
   ],
   "source": [
    "dz = dx.groupby(dx.genderx).agg({\"membershipCardx\": [lambda x: np.mean(x==\"Yes\"), np.size]})\n",
    "dz.columns = [\"Proportion\", \"Total_n\"] # The default column names are unclear, so we replace them here\n",
    "dz"
   ]
  },
  {
   "cell_type": "markdown",
   "id": "9bd3fbcf-9c45-44bf-828a-7a5289821b60",
   "metadata": {},
   "source": [
    "Con un intervalo de confianza del 95 %, se puede construir como el intervalo que consta de todos los puntos que estan dentro de dos (o 1,96) errores estandar de la estimacion puntual.\n",
    "\n",
    "Dado que el error estandar juega un papel tan importante aqui, primero lo calculamos por separado."
   ]
  },
  {
   "cell_type": "code",
   "execution_count": 11,
   "id": "26ed2855-caca-4c60-ac8a-89b9eb3569c2",
   "metadata": {},
   "outputs": [
    {
     "name": "stdout",
     "output_type": "stream",
     "text": [
      "0.06508510485393613\n",
      "0.06762006882779828\n"
     ]
    }
   ],
   "source": [
    "p = dz.Proportion.Female # Female proportion\n",
    "n = dz.Total_n.Female # Total number of females\n",
    "se_female = np.sqrt(p * (1 - p) / n)\n",
    "print(se_female)\n",
    "\n",
    "p = dz.Proportion.Male # Male proportion\n",
    "n = dz[\"Total_n\"].Male # Total number of males\n",
    "se_male = np.sqrt(p * (1 - p) / n)\n",
    "print(se_male)"
   ]
  },
  {
   "cell_type": "markdown",
   "id": "c1ddbdd2-7709-4cdb-894a-1b26edbfcbd1",
   "metadata": {},
   "source": [
    "A continuacion, calculamos los intervalos de confianza del 95 % para las proporciones de membresia femenina y masculina utilizando la formula para el intervalo de confianza de una muestra para una proporcion:"
   ]
  },
  {
   "cell_type": "code",
   "execution_count": 12,
   "id": "f05acbc7-5089-4a26-85f6-5b339e504cf6",
   "metadata": {},
   "outputs": [
    {
     "name": "stdout",
     "output_type": "stream",
     "text": [
      "0.3809077707574716 0.6360413817849012\n"
     ]
    }
   ],
   "source": [
    "p = dz.Proportion.Female # Female proportion\n",
    "n = dz.Total_n.Female # Total number of females\n",
    "lcb = p - 1.96 * np.sqrt(p * (1 - p) / n)  \n",
    "ucb = p + 1.96 * np.sqrt(p * (1 - p) / n)  \n",
    "print(lcb, ucb)"
   ]
  },
  {
   "cell_type": "markdown",
   "id": "56a7b96b-bedd-4061-8232-514cb3433aca",
   "metadata": {},
   "source": [
    "Los resultados anteriores indican que la proporcion de poblacion (para mujeres que tienen carta de membresia) puede estar entre 0.3809 y 0.636."
   ]
  },
  {
   "cell_type": "code",
   "execution_count": 13,
   "id": "bb841585-5ca3-49de-8d88-c94cdfb9290e",
   "metadata": {},
   "outputs": [
    {
     "name": "stdout",
     "output_type": "stream",
     "text": [
      "0.423020220653071 0.6880908904580402\n"
     ]
    }
   ],
   "source": [
    "p = dz.Proportion.Male # Male proportion\n",
    "n = dz.Total_n.Male # Total number of males\n",
    "lcb = p - 1.96 * np.sqrt(p * (1 - p) / n)  \n",
    "ucb = p + 1.96 * np.sqrt(p * (1 - p) / n)  \n",
    "print(lcb, ucb)"
   ]
  },
  {
   "cell_type": "markdown",
   "id": "c4dcce69-dcab-4d34-9115-9a5d352b4653",
   "metadata": {},
   "source": [
    "Para hombres que tienen carta de membresia proporción de población puede estar entre 0.423 y 0.688."
   ]
  },
  {
   "cell_type": "markdown",
   "id": "a1e0576f-b64c-4cf2-8811-535c4280feff",
   "metadata": {},
   "source": [
    "We can use the Statsmodels library to calculate the CI for us in one line:"
   ]
  },
  {
   "cell_type": "code",
   "execution_count": 14,
   "id": "90791f67-27ba-44fc-a4c1-80e76fc9bff9",
   "metadata": {
    "tags": []
   },
   "outputs": [
    {
     "data": {
      "text/plain": [
       "(0.3809101148274585, 0.6360390377149143)"
      ]
     },
     "execution_count": 14,
     "metadata": {},
     "output_type": "execute_result"
    }
   ],
   "source": [
    "# 95% CI for the proportion of females who membership (compare to value above)\n",
    "sm.stats.proportion_confint(30, 29+30)"
   ]
  },
  {
   "cell_type": "code",
   "execution_count": 15,
   "id": "569119b8-c210-4491-9f3d-bcd1fa2d7fd4",
   "metadata": {},
   "outputs": [
    {
     "data": {
      "text/plain": [
       "(0.42302265602095135, 0.6880884550901598)"
      ]
     },
     "execution_count": 15,
     "metadata": {},
     "output_type": "execute_result"
    }
   ],
   "source": [
    "# 95% CI for the proportion of males who membership (compare to value above)\n",
    "sm.stats.proportion_confint(30, 24+30)"
   ]
  },
  {
   "cell_type": "markdown",
   "id": "b3c8b7eb-88f6-4b13-8563-9855160d2354",
   "metadata": {},
   "source": [
    "# Confidence intervals comparing two independent proportions"
   ]
  },
  {
   "cell_type": "markdown",
   "id": "46359ede-63fe-4006-b478-a7fec4919d77",
   "metadata": {},
   "source": [
    "A continuacion, calculamos la diferencia entre usuarios de membresia de la poblacion femenina con la masculina. Por lo tanto determinamos el error standar "
   ]
  },
  {
   "cell_type": "code",
   "execution_count": 16,
   "id": "7b8f6797-0f6f-469d-947f-c93a38392b3f",
   "metadata": {},
   "outputs": [
    {
     "data": {
      "text/plain": [
       "0.0938538469223507"
      ]
     },
     "execution_count": 16,
     "metadata": {},
     "output_type": "execute_result"
    }
   ],
   "source": [
    "se_diff = np.sqrt(se_female**2 + se_male**2)\n",
    "se_diff"
   ]
  },
  {
   "cell_type": "code",
   "execution_count": 17,
   "id": "579bacfc-58c3-4d9b-9323-7cf9910038b1",
   "metadata": {},
   "outputs": [
    {
     "name": "stdout",
     "output_type": "stream",
     "text": [
      "-0.23478867312907056 0.14062671456033224\n"
     ]
    }
   ],
   "source": [
    "d = dz.Proportion.Female - dz.Proportion.Male\n",
    "lcb = d - 2*se_diff\n",
    "ucb = d + 2*se_diff\n",
    "print(lcb, ucb)"
   ]
  },
  {
   "cell_type": "markdown",
   "id": "37be83da-34c3-40db-932c-46a6a198e544",
   "metadata": {},
   "source": [
    "El intervalo va de -0.235 a 0.141, son valores cercanos a cero de tal manera que es posible que no haya diferencia entre estas dos poblaciones, es decir que la cantidad de usuarios que tienen carta de membresia es similar entre hombre y mujeres."
   ]
  },
  {
   "cell_type": "markdown",
   "id": "144feec0-4056-4028-81da-042d79067742",
   "metadata": {},
   "source": [
    "# Confidence intervals for the mean"
   ]
  },
  {
   "cell_type": "markdown",
   "id": "6af34151-f23f-44b6-970d-8b179f3d05a5",
   "metadata": {},
   "source": [
    "Para fines didacticos en la siguiente seccion vamos a generar una columna aleatorio que contenga las edades de los encuestados tomando como base la codificacion dada por la encuesta.\n",
    "\n",
    "Se contruira un intervalo de confianza de medias, para lograrlo nos preguntaremos ¿Cual es el promedio de edad de los consumidores que respondieron con 3 y 5 estrellas al servicio de las cafetarias Starbuks de Malaysia en el periodo correspondiente en que se corrio la encuesta?  "
   ]
  },
  {
   "cell_type": "code",
   "execution_count": 18,
   "id": "ac40f855-1b04-4fb3-9e13-1a0019dff582",
   "metadata": {},
   "outputs": [],
   "source": [
    "# usaremos la libreria random\n",
    "from random import randrange"
   ]
  },
  {
   "cell_type": "code",
   "execution_count": 19,
   "id": "dd8d4e61-0d22-4d95-8847-f89dc3c8d4f3",
   "metadata": {},
   "outputs": [],
   "source": [
    "df[\"ageNumber\"]=df.age.replace({0:randrange(15,19), 1:randrange(20,29), 2:randrange(30,39), 3:randrange(40,60)})"
   ]
  },
  {
   "cell_type": "code",
   "execution_count": 20,
   "id": "43634280-b0e3-4bbd-b1b1-8fc10f8f5f38",
   "metadata": {},
   "outputs": [],
   "source": [
    "df[\"serviceRatex\"]=df.serviceRate.replace({1:\"Bad\",2:\"Bad\",3:\"Bad\", 4:\"Good\", 5:\"Good\"})"
   ]
  },
  {
   "cell_type": "markdown",
   "id": "9cacafff-d1b6-4b1f-80d1-4fd45f97db4b",
   "metadata": {},
   "source": [
    "Vamos a cruzar las variables califacion de servicio (serviceRatex) con ageNumber para conocer el promedio de edad segmentado por calificacion de servicio bueno y malo."
   ]
  },
  {
   "cell_type": "code",
   "execution_count": 21,
   "id": "f0b90863-e7a6-484f-a7e8-0b1876907888",
   "metadata": {},
   "outputs": [
    {
     "data": {
      "text/html": [
       "<div>\n",
       "<style scoped>\n",
       "    .dataframe tbody tr th:only-of-type {\n",
       "        vertical-align: middle;\n",
       "    }\n",
       "\n",
       "    .dataframe tbody tr th {\n",
       "        vertical-align: top;\n",
       "    }\n",
       "\n",
       "    .dataframe thead th {\n",
       "        text-align: right;\n",
       "    }\n",
       "</style>\n",
       "<table border=\"1\" class=\"dataframe\">\n",
       "  <thead>\n",
       "    <tr style=\"text-align: right;\">\n",
       "      <th></th>\n",
       "      <th>ageNumber</th>\n",
       "    </tr>\n",
       "    <tr>\n",
       "      <th>serviceRatex</th>\n",
       "      <th></th>\n",
       "    </tr>\n",
       "  </thead>\n",
       "  <tbody>\n",
       "    <tr>\n",
       "      <th>Bad</th>\n",
       "      <td>28.400000</td>\n",
       "    </tr>\n",
       "    <tr>\n",
       "      <th>Good</th>\n",
       "      <td>29.027397</td>\n",
       "    </tr>\n",
       "  </tbody>\n",
       "</table>\n",
       "</div>"
      ],
      "text/plain": [
       "              ageNumber\n",
       "serviceRatex           \n",
       "Bad           28.400000\n",
       "Good          29.027397"
      ]
     },
     "execution_count": 21,
     "metadata": {},
     "output_type": "execute_result"
    }
   ],
   "source": [
    "df.groupby(\"serviceRatex\").agg({\"ageNumber\": np.mean})"
   ]
  },
  {
   "cell_type": "markdown",
   "id": "39bd6063-331d-4b5f-b149-3f906a9c8321",
   "metadata": {},
   "source": [
    "Nuestros errores estandar para el rate bad y para rate good:"
   ]
  },
  {
   "cell_type": "code",
   "execution_count": 22,
   "id": "c20d0a23-5fa2-4d4c-89c1-26ceaedb8ad4",
   "metadata": {},
   "outputs": [
    {
     "data": {
      "text/html": [
       "<div>\n",
       "<style scoped>\n",
       "    .dataframe tbody tr th:only-of-type {\n",
       "        vertical-align: middle;\n",
       "    }\n",
       "\n",
       "    .dataframe tbody tr th {\n",
       "        vertical-align: top;\n",
       "    }\n",
       "\n",
       "    .dataframe thead tr th {\n",
       "        text-align: left;\n",
       "    }\n",
       "\n",
       "    .dataframe thead tr:last-of-type th {\n",
       "        text-align: right;\n",
       "    }\n",
       "</style>\n",
       "<table border=\"1\" class=\"dataframe\">\n",
       "  <thead>\n",
       "    <tr>\n",
       "      <th></th>\n",
       "      <th colspan=\"3\" halign=\"left\">ageNumber</th>\n",
       "    </tr>\n",
       "    <tr>\n",
       "      <th></th>\n",
       "      <th>mean</th>\n",
       "      <th>std</th>\n",
       "      <th>size</th>\n",
       "    </tr>\n",
       "    <tr>\n",
       "      <th>serviceRatex</th>\n",
       "      <th></th>\n",
       "      <th></th>\n",
       "      <th></th>\n",
       "    </tr>\n",
       "  </thead>\n",
       "  <tbody>\n",
       "    <tr>\n",
       "      <th>Bad</th>\n",
       "      <td>28.400000</td>\n",
       "      <td>6.953324</td>\n",
       "      <td>40</td>\n",
       "    </tr>\n",
       "    <tr>\n",
       "      <th>Good</th>\n",
       "      <td>29.027397</td>\n",
       "      <td>5.720268</td>\n",
       "      <td>73</td>\n",
       "    </tr>\n",
       "  </tbody>\n",
       "</table>\n",
       "</div>"
      ],
      "text/plain": [
       "              ageNumber               \n",
       "                   mean       std size\n",
       "serviceRatex                          \n",
       "Bad           28.400000  6.953324   40\n",
       "Good          29.027397  5.720268   73"
      ]
     },
     "execution_count": 22,
     "metadata": {},
     "output_type": "execute_result"
    }
   ],
   "source": [
    "df.groupby(\"serviceRatex\").agg({\"ageNumber\": [np.mean, np.std, np.size]})"
   ]
  },
  {
   "cell_type": "code",
   "execution_count": 23,
   "id": "e1286dd4-a1c8-40d8-9c66-012502a8e735",
   "metadata": {},
   "outputs": [
    {
     "name": "stdout",
     "output_type": "stream",
     "text": [
      "1.2486253341174844 0.8466756588168086\n"
     ]
    }
   ],
   "source": [
    "sem_bad = 7.897 / np.sqrt(40)\n",
    "sem_good = 7.234 / np.sqrt(73)\n",
    "print(sem_bad, sem_good)"
   ]
  },
  {
   "cell_type": "markdown",
   "id": "1e6aedc6-c823-4528-8ba8-79d02ea701d9",
   "metadata": {},
   "source": [
    "Vamos a construir un intervalo de confianza de los clientes que clasificaron como bueno los servicios de la marca."
   ]
  },
  {
   "cell_type": "code",
   "execution_count": 24,
   "id": "74a1fa72-6eac-4f37-aac5-9d0604ceea52",
   "metadata": {},
   "outputs": [
    {
     "name": "stdout",
     "output_type": "stream",
     "text": [
      "24.26051570871906 27.579484291280945\n"
     ]
    }
   ],
   "source": [
    "lcb_good = 25.92 - 1.96 * 7.234 / np.sqrt(73)\n",
    "ucb_good = 25.92 + 1.96 * 7.234/ np.sqrt(73)\n",
    "print(lcb_good, ucb_good)"
   ]
  },
  {
   "cell_type": "markdown",
   "id": "86a744a2-d407-48cd-b71b-e06919cf5473",
   "metadata": {},
   "source": [
    "Las personas que clasifican positivamente el servicio de la marca estan en una edad entre 24 a 27 años."
   ]
  },
  {
   "cell_type": "markdown",
   "id": "0bd61c82-4b09-4a1e-818c-0d502f4f565d",
   "metadata": {},
   "source": [
    "# Confidence intervals for the difference between two means"
   ]
  },
  {
   "cell_type": "markdown",
   "id": "16fb0adb-2af9-48b8-997b-a9aaea10307f",
   "metadata": {},
   "source": [
    "En esta seccion vamos a practicar la diferencia entre dos medias, para ello vamos a seguir con las variables edad y serviceRate. Nos vamos a auxiliar de los errores estandar creados anteriormente. "
   ]
  },
  {
   "cell_type": "code",
   "execution_count": 25,
   "id": "138e2c92-b16b-493a-bc03-0107765a5552",
   "metadata": {},
   "outputs": [
    {
     "data": {
      "text/plain": [
       "1.5086168818599628"
      ]
     },
     "execution_count": 25,
     "metadata": {},
     "output_type": "execute_result"
    }
   ],
   "source": [
    "sem_diff = np.sqrt(sem_bad**2 + sem_good**2)\n",
    "sem_diff"
   ]
  },
  {
   "cell_type": "markdown",
   "id": "245a605c-29e8-4530-9854-6f825f9947ec",
   "metadata": {},
   "source": [
    "Construimos con un 95% de confianza el intervalo para la diferencia entre edad media para calificacion buena y mala: "
   ]
  },
  {
   "cell_type": "code",
   "execution_count": 26,
   "id": "950c40ed-d485-4475-993b-8b937c04dcfe",
   "metadata": {},
   "outputs": [
    {
     "data": {
      "text/plain": [
       "(-3.457233763719927, 2.5772337637199243)"
      ]
     },
     "execution_count": 26,
     "metadata": {},
     "output_type": "execute_result"
    }
   ],
   "source": [
    "age_diff = 25.48 - 25.92\n",
    "lcb = age_diff - 2*sem_diff\n",
    "ucb = age_diff + 2*sem_diff\n",
    "(lcb, ucb)"
   ]
  },
  {
   "cell_type": "markdown",
   "id": "8a01ff98-3506-4453-be47-7164bd47f867",
   "metadata": {},
   "source": [
    "La diferencia en la media de la edad que clasifica como bueno o malo el servicio esta entre -3 years a 2 years, indicandonos que es posible la no diferencia entre las edades debido a que se contempla el valor cero dentro del rango."
   ]
  },
  {
   "cell_type": "code",
   "execution_count": null,
   "id": "7192508d-125c-4a10-ba81-e702232f76f4",
   "metadata": {},
   "outputs": [],
   "source": []
  }
 ],
 "metadata": {
  "kernelspec": {
   "display_name": "Python 3 (ipykernel)",
   "language": "python",
   "name": "python3"
  },
  "language_info": {
   "codemirror_mode": {
    "name": "ipython",
    "version": 3
   },
   "file_extension": ".py",
   "mimetype": "text/x-python",
   "name": "python",
   "nbconvert_exporter": "python",
   "pygments_lexer": "ipython3",
   "version": "3.10.8"
  }
 },
 "nbformat": 4,
 "nbformat_minor": 5
}
